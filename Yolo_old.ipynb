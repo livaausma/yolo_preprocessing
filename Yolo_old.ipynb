{
  "nbformat": 4,
  "nbformat_minor": 0,
  "metadata": {
    "colab": {
      "provenance": []
    },
    "kernelspec": {
      "name": "python3",
      "display_name": "Python 3"
    },
    "language_info": {
      "name": "python"
    }
  },
  "cells": [
    {
      "cell_type": "code",
      "execution_count": 25,
      "metadata": {
        "id": "9vYBTFVrOGIA"
      },
      "outputs": [],
      "source": [
        "import os\n",
        "import yaml\n",
        "from random import randrange\n",
        "import shutil"
      ]
    },
    {
      "cell_type": "code",
      "source": [
        "images_train_dir = os.path.join(\"\", 'images', 'train')\n",
        "images_val_dir = os.path.join(\"\", 'images', 'val')\n",
        "labels_train_dir = os.path.join(\"\", 'labels', 'train')\n",
        "labels_val_dir = os.path.join(\"\", 'labels', 'val')\n",
        "\n",
        "os.makedirs(images_train_dir, exist_ok=True)\n",
        "os.makedirs(images_val_dir, exist_ok=True)\n",
        "os.makedirs(labels_train_dir, exist_ok=True)\n",
        "os.makedirs(labels_val_dir, exist_ok=True)\n",
        "\n",
        "dataset_dir = os.path.join(\"\", \"dataset\")\n",
        "os.makedirs(dataset_dir, exist_ok=True)"
      ],
      "metadata": {
        "id": "PkCrT_5NL1fL"
      },
      "execution_count": 26,
      "outputs": []
    },
    {
      "cell_type": "code",
      "source": [
        "def create_yolo_training_config(path, product_specific=False, product_type_id=None, names=None):\n",
        "    # Ensure the path exists\n",
        "    if not os.path.exists(path):\n",
        "        os.makedirs(path)\n",
        "\n",
        "    # Create the folder structure\n",
        "    images_train_dir = os.path.join('images', 'train')\n",
        "    images_val_dir = os.path.join('images', 'val')\n",
        "    labels_train_dir = os.path.join('labels', 'train')\n",
        "    labels_val_dir = os.path.join('labels', 'val')\n",
        "\n",
        "    os.makedirs(images_train_dir, exist_ok=True)\n",
        "    os.makedirs(images_val_dir, exist_ok=True)\n",
        "    os.makedirs(labels_train_dir, exist_ok=True)\n",
        "    os.makedirs(labels_val_dir, exist_ok=True)\n",
        "\n",
        "    dataset_dir = os.path.join(\"\", \"dataset\")\n",
        "    os.makedirs(dataset_dir, exist_ok=True)\n",
        "\n",
        "    labels_names_val, labels_names_train = split_data()\n",
        "    #update train and val sets\n",
        "    names = []\n",
        "    names = update_label(labels_names_val, labels_val_dir, product_type_id, names)\n",
        "    names = update_label(labels_names_train, labels_train_dir, product_type_id, names)\n",
        "\n",
        "    # Create the YAML content\n",
        "    yaml_content = {\n",
        "        'train': os.path.join(path, 'images', 'train'),\n",
        "        'val': os.path.join(path, 'images', 'val'),\n",
        "        'labels': {\n",
        "            'train': labels_train_dir,\n",
        "            'val': labels_val_dir\n",
        "        },\n",
        "        'nc': len(names) if names else 0,\n",
        "        'names': names if names else []\n",
        "    }\n",
        "    if product_specific and product_type_id is not None:\n",
        "        yaml_content['product_type_id'] = product_type_id\n",
        "\n",
        "    # Write the YAML file\n",
        "    yaml_path = os.path.join(path, 'data.yaml')\n",
        "\n",
        "    with open(yaml_path, 'w') as yaml_file:\n",
        "        yaml.dump(yaml_content, yaml_file, default_flow_style=False)\n",
        "    print(f'YOLO training configuration created at {yaml_path}')\n",
        "    print(f'Folder structure created under {path}')"
      ],
      "metadata": {
        "id": "jueJ5pPQOMOJ"
      },
      "execution_count": 27,
      "outputs": []
    },
    {
      "cell_type": "code",
      "source": [
        "def count_jpg_images(folder_path, format=\".jpg\"):\n",
        "    # Initialize counters for jpg and txt files\n",
        "    jpg_count = 0\n",
        "    txt_count = 0\n",
        "\n",
        "    # Check the format parameter to determine which files to count\n",
        "    if format == \".jpg\":\n",
        "        # Loop through all files in the specified folder\n",
        "        for file_name in os.listdir(folder_path):\n",
        "            # Check if the file name ends with '.jpg'\n",
        "            if file_name.endswith('.jpg'):\n",
        "                # Increment the jpg file count\n",
        "                jpg_count += 1\n",
        "        # Return the count of jpg files\n",
        "        return jpg_count\n",
        "    elif format == \".txt\":\n",
        "        # Loop through all files in the specified folder\n",
        "        for file_name in os.listdir(folder_path):\n",
        "            # Check if the file name ends with '.txt'\n",
        "            if file_name.endswith('.txt'):\n",
        "                # Increment the txt file count\n",
        "                txt_count += 1\n",
        "        # Return the count of txt files\n",
        "        return txt_count\n"
      ],
      "metadata": {
        "id": "MCcS5uRF8ufj"
      },
      "execution_count": 28,
      "outputs": []
    },
    {
      "cell_type": "code",
      "source": [
        "def get_jpg_image_names(folder_path, format=\".jpg\"):\n",
        "    # Check if the format is \".jpg\"\n",
        "    if format == \".jpg\":\n",
        "        # List comprehension to find all files ending with '.jpg' in the specified folder\n",
        "        jpg_images = [file_name for file_name in os.listdir(folder_path) if file_name.endswith('.jpg')]\n",
        "        # Return the list of jpg file names\n",
        "        return jpg_images\n",
        "    else:\n",
        "        # List comprehension to find all files ending with '.txt' in the specified folder\n",
        "        txt_images = [file_name for file_name in os.listdir(folder_path) if file_name.endswith('.txt')]\n",
        "        # Return the list of txt file names\n",
        "        return txt_images\n"
      ],
      "metadata": {
        "id": "uwnxYx8T_nWM"
      },
      "execution_count": 29,
      "outputs": []
    },
    {
      "cell_type": "code",
      "source": [
        "def copy_image(src_folder, dest_folder, image_name):\n",
        "    # Ensure the destination folder exists\n",
        "    os.makedirs(dest_folder, exist_ok=True)\n",
        "\n",
        "    # Define the full file paths\n",
        "    src_path = os.path.join(src_folder, image_name)\n",
        "    dest_path = os.path.join(dest_folder, image_name)\n",
        "\n",
        "    # Copy the image\n",
        "    shutil.copy(src_path, dest_path)\n",
        "    #print(f'Copied {image_name} to {dest_folder}')"
      ],
      "metadata": {
        "id": "pT7PLC5uBOhG"
      },
      "execution_count": 30,
      "outputs": []
    },
    {
      "cell_type": "code",
      "source": [
        "def copy_file(src_folder, dest_folder, file_name):\n",
        "    # Ensure the destination folder exists\n",
        "    os.makedirs(dest_folder, exist_ok=True)\n",
        "\n",
        "    # Define the full file paths\n",
        "    src_path = os.path.join(src_folder, file_name)\n",
        "    dest_path = os.path.join(dest_folder, file_name)\n",
        "\n",
        "    # Copy the file\n",
        "    shutil.copy(src_path, dest_path)\n",
        "    #print(f'Copied {file_name} to {dest_folder}')"
      ],
      "metadata": {
        "id": "SUThYZr7K9Dl"
      },
      "execution_count": 31,
      "outputs": []
    },
    {
      "cell_type": "code",
      "source": [
        "def split_data():\n",
        "    # Define directories for dataset, training images, validation images, training labels, and validation labels\n",
        "    dataset_dir = 'dataset'\n",
        "    image_train_dir = 'images/train'\n",
        "    image_val_dir = 'images/val'\n",
        "    labels_train_dir = 'labels/train'\n",
        "    labels_val_dir = 'labels/val'\n",
        "\n",
        "    # Count the number of jpg images in the dataset directory\n",
        "    number_of_images = count_jpg_images(dataset_dir)\n",
        "\n",
        "    # Get the list of jpg image names in the dataset directory\n",
        "    image_names = get_jpg_image_names(dataset_dir)\n",
        "    # Dictionary to store image names and their corresponding random index\n",
        "    image_names_index = {}\n",
        "\n",
        "    # Get the list of txt label names in the dataset directory\n",
        "    label_names = get_jpg_image_names(dataset_dir, \".txt\")\n",
        "    # Dictionary to store label names and their corresponding random index\n",
        "    label_names_index = {}\n",
        "\n",
        "    # Lists to store the names of the labels for training and validation sets\n",
        "    labels_names_train = []\n",
        "    labels_names_val = []\n",
        "\n",
        "    # Add image and label names into the dictionaries with random index values\n",
        "    for i in range(len(image_names)):\n",
        "        image_names_index[image_names[i]] = randrange(10)\n",
        "        label_names_index[label_names[i]] = image_names_index[image_names[i]]\n",
        "\n",
        "    # Split images and labels into training and validation sets\n",
        "    for i in range(number_of_images):\n",
        "        # If the random index is 9 or 0, consider it for validation set\n",
        "        if list(image_names_index.values())[i] == 9 or list(image_names_index.values())[i] == 0:\n",
        "            # Copy image to validation directory\n",
        "            copy_image(dataset_dir, image_val_dir, list(image_names_index.keys())[i])\n",
        "            # Copy label to validation directory\n",
        "            copy_file(dataset_dir, labels_val_dir, list(label_names_index.keys())[i])\n",
        "            # Add label name to validation list\n",
        "            labels_names_val.append(list(label_names_index.keys())[i])\n",
        "        else:\n",
        "            # Otherwise, consider it for training set\n",
        "            # Copy image to training directory\n",
        "            copy_image(dataset_dir, image_train_dir, list(image_names_index.keys())[i])\n",
        "            # Copy label to training directory\n",
        "            copy_file(dataset_dir, labels_train_dir, list(label_names_index.keys())[i])\n",
        "            # Add label name to training list\n",
        "            labels_names_train.append(list(label_names_index.keys())[i])\n",
        "\n",
        "    # Return the lists of validation and training label names\n",
        "    return labels_names_val, labels_names_train\n"
      ],
      "metadata": {
        "id": "c4t8iAcBVZQ5"
      },
      "execution_count": 32,
      "outputs": []
    },
    {
      "cell_type": "code",
      "source": [
        "def update_label(label_names, path, product_type_id=0, names=None):\n",
        "    # Initialize an empty string to store the new label content\n",
        "    st = \"\"\n",
        "    # Loop through each label name in the provided list\n",
        "    for index in range(len(label_names)):\n",
        "        # Open the current label file in read mode\n",
        "        with open(path + \"/\" + label_names[index], \"r\") as fileref:\n",
        "            # Read each line in the file\n",
        "            for i in fileref:\n",
        "                # Check if the second element in the line matches the product_type_id\n",
        "                if product_type_id == int(i.split()[1]):\n",
        "                    # Update the string with the elements after the second one\n",
        "                    names.append(i.split()[0])\n",
        "                    st = \" \".join(i.split()[2:])\n",
        "\n",
        "        # Open the same file in write mode to update its content\n",
        "        with open(path + \"/\" + label_names[index], 'w') as file:\n",
        "            # Write the updated string to the file\n",
        "            file.write(st)\n",
        "    print(names)\n",
        "    return names"
      ],
      "metadata": {
        "id": "RHPGMT-PzaMj"
      },
      "execution_count": 33,
      "outputs": []
    },
    {
      "cell_type": "code",
      "source": [
        "#update_label(labels_names_val, labels_val_dir)\n",
        "products = {\"Toilet\":0, \"Bathtub\":1, \"Sink\":2}\n",
        "#list of names\n",
        "names = []\n",
        "print(products[\"Sink\"])"
      ],
      "metadata": {
        "id": "jg-ui7GpTStZ",
        "colab": {
          "base_uri": "https://localhost:8080/"
        },
        "outputId": "9fdd9285-1ab9-4669-f575-e6fc915d4206"
      },
      "execution_count": 34,
      "outputs": [
        {
          "output_type": "stream",
          "name": "stdout",
          "text": [
            "2\n"
          ]
        }
      ]
    },
    {
      "cell_type": "code",
      "source": [
        "products = {\"Toilet\":0, \"Bathtub\":1, \"Sink\":2}\n",
        "\n",
        "# Example usage\n",
        "create_yolo_training_config(\"path/to/directory\", product_specific=True, product_type_id=products[\"Sink\"])\n",
        "\n"
      ],
      "metadata": {
        "id": "nBLrEzJO2wOs",
        "colab": {
          "base_uri": "https://localhost:8080/"
        },
        "outputId": "08b9c666-ff47-4f25-ba88-d5328283a726"
      },
      "execution_count": 35,
      "outputs": [
        {
          "output_type": "stream",
          "name": "stdout",
          "text": [
            "['Sink1', 'Sink1', 'Sink5', 'Sink1', 'Sink1', 'Sink5', 'Sink1', 'Sink1']\n",
            "['Sink1', 'Sink1', 'Sink5', 'Sink1', 'Sink1', 'Sink5', 'Sink1', 'Sink1', 'Sink5', 'Sink1', 'Sink1', 'Sink1', 'Sink1', 'Sink5', 'Sink5', 'Sink5']\n",
            "YOLO training configuration created at path/to/directory/data.yaml\n",
            "Folder structure created under path/to/directory\n"
          ]
        }
      ]
    },
    {
      "cell_type": "code",
      "source": [],
      "metadata": {
        "id": "DQ8t55d1HuPp"
      },
      "execution_count": 35,
      "outputs": []
    }
  ]
}