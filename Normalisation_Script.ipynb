{
  "nbformat": 4,
  "nbformat_minor": 0,
  "metadata": {
    "colab": {
      "provenance": []
    },
    "kernelspec": {
      "name": "python3",
      "display_name": "Python 3"
    },
    "language_info": {
      "name": "python"
    }
  },
  "cells": [
    {
      "cell_type": "code",
      "execution_count": 183,
      "metadata": {
        "id": "J8whKUU6vpAI"
      },
      "outputs": [],
      "source": [
        "import os"
      ]
    },
    {
      "cell_type": "code",
      "source": [
        "dataset_dir = os.path.join(\"\", \"dataset\")\n",
        "os.makedirs(dataset_dir, exist_ok=True)\n",
        "print(os.listdir(dataset_dir))\n",
        "\n",
        "updated_dataset_dir = os.path.join(\"\", \"updatedDataset\")\n",
        "os.makedirs(updated_dataset_dir, exist_ok=True)\n",
        "print(os.listdir(updated_dataset_dir))\n",
        "#4k format of height and width\n",
        "H=440.\n",
        "B=440."
      ],
      "metadata": {
        "colab": {
          "base_uri": "https://localhost:8080/"
        },
        "id": "pm6Ww46-EQIt",
        "outputId": "42a43d36-ae77-417d-a0ed-e3a9715f65f1"
      },
      "execution_count": 184,
      "outputs": [
        {
          "output_type": "stream",
          "name": "stdout",
          "text": [
            "['Test_label7.txt', 'Test_label10.txt', 'Test_label11.txt', 'Screenshot_Room7_LeftWall_Bathtub1_Faucet_Bathtub1_Floor1_Wall1_Time0_Camera_10.txt', 'Screenshot_Room7_LeftWall_Bathtub1_Faucet_Bathtub1_Floor1_Wall1_Time0_Camera_9.txt', 'Screenshot_Room7_LeftWall_Bathtub1_Faucet_Bathtub1_Floor1_Wall1_Time0_Camera_5 (1).txt', 'Test_label2.txt', 'Test_label14.txt', 'Screenshot_Room7_LeftWall_Bathtub1_Faucet_Bathtub1_Floor1_Wall1_Time0_Camera_7.txt', 'Test_label8.txt', '.ipynb_checkpoints', 'Screenshot_Room7_LeftWall_Bathtub1_Faucet_Bathtub1_Floor1_Wall1_Time0_Camera_0.txt', 'Test_label5.txt', 'Test_label12.txt', 'Test_label1.txt', 'Test_label3.txt', 'Test_label13.txt', 'Test_label6.txt', 'Screenshot_Room7_LeftWall_Bathtub1_Faucet_Bathtub1_Floor1_Wall1_Time0_Camera_5.txt', 'Test_label4.txt', 'Test_label9.txt']\n",
            "['Test_label7.txt', 'Test_label10.txt', 'Test_label11.txt', 'Screenshot_Room7_LeftWall_Bathtub1_Faucet_Bathtub1_Floor1_Wall1_Time0_Camera_10.txt', 'Screenshot_Room7_LeftWall_Bathtub1_Faucet_Bathtub1_Floor1_Wall1_Time0_Camera_9.txt', 'Screenshot_Room7_LeftWall_Bathtub1_Faucet_Bathtub1_Floor1_Wall1_Time0_Camera_5 (1).txt', 'Test_label2.txt', 'Test_label14.txt', 'Screenshot_Room7_LeftWall_Bathtub1_Faucet_Bathtub1_Floor1_Wall1_Time0_Camera_7.txt', 'Test_label8.txt', 'Screenshot_Room7_LeftWall_Bathtub1_Faucet_Bathtub1_Floor1_Wall1_Time0_Camera_0.txt', 'Test_label5.txt', 'Test_label12.txt', 'Test_label1.txt', 'Test_label3.txt', 'Test_label13.txt', 'Test_label6.txt', 'Screenshot_Room7_LeftWall_Bathtub1_Faucet_Bathtub1_Floor1_Wall1_Time0_Camera_5.txt', 'Test_label4.txt', 'Test_label9.txt']\n"
          ]
        }
      ]
    },
    {
      "cell_type": "code",
      "source": [
        "def get_label_names(folder_path, format=\".txt\"):\n",
        "    # Check if the format is \".txt\"\n",
        "    if format == \".txt\":\n",
        "        # List comprehension to find all files ending with '.txt' in the specified folder\n",
        "        txt_labels = [file_name for file_name in os.listdir(folder_path) if file_name.endswith('.txt')]\n",
        "        # Return the list of txt file names\n",
        "        return txt_labels\n"
      ],
      "metadata": {
        "id": "XGncdr2sIiVk"
      },
      "execution_count": 185,
      "outputs": []
    },
    {
      "cell_type": "code",
      "source": [
        "def get_label_content(path):\n",
        "    # Initialize an empty list to hold the file content\n",
        "    content = []\n",
        "\n",
        "    # Open the file at the given path in read mode\n",
        "    with open(path, \"r\") as fileref:\n",
        "        # Iterate over each line in the file\n",
        "        for i in fileref:\n",
        "            # Append each line to the content list\n",
        "            content.append(i)\n",
        "\n",
        "    # Return the list containing all lines from the file\n",
        "    return content"
      ],
      "metadata": {
        "id": "nV3R4z7ALu39"
      },
      "execution_count": 186,
      "outputs": []
    },
    {
      "cell_type": "code",
      "source": [
        "def change_label_content(path, updated_path):\n",
        "    # Initialize variables to hold label index, coordinates, and sizes\n",
        "    index = 0\n",
        "    updated_x = 0\n",
        "    updated_y = 0\n",
        "    side_size_x = 0\n",
        "    side_size_y = 0\n",
        "\n",
        "    # Open the file at the given path in read mode\n",
        "    with open(path, \"r\") as fileref:\n",
        "        # Iterate over each line in the file\n",
        "        for i in fileref:\n",
        "            # Split the line into parts and parse the values as floats\n",
        "            index = float(i.split(\" \")[0])\n",
        "            updated_x = float(i.split(\" \")[1])\n",
        "            updated_y = float(i.split(\" \")[2])\n",
        "            side_size_x = float(i.split(\" \")[3])\n",
        "            side_size_y = float(i.split(\" \")[4])\n",
        "\n",
        "    # Normalize the x and y coordinates\n",
        "    updated_x = update_normalize_xy(updated_x, side_size_x, \"X\")\n",
        "    updated_y = update_normalize_xy(updated_y, side_size_y, \"Y\")\n",
        "\n",
        "    # Normalize the side sizes (assuming H and B are global or defined elsewhere)\n",
        "    side_size_x = side_size_x / H\n",
        "    side_size_y = side_size_y / B\n",
        "\n",
        "    updated_x, updated_y, side_size_x, side_size_y = check_update_outliers(updated_x, updated_y, side_size_x, side_size_y)\n",
        "\n",
        "    # Create a string with updated values concatenated\n",
        "    st = f\"{index} {updated_x} {updated_y} {side_size_x} {side_size_y}\"\n",
        "\n",
        "    # Open the file at the given path in write mode and write the updated string\n",
        "    with open(updated_path, \"w\") as file:\n",
        "        file.write(st)"
      ],
      "metadata": {
        "id": "_tvGnQ1bZdym"
      },
      "execution_count": 187,
      "outputs": []
    },
    {
      "cell_type": "code",
      "source": [
        "def check_update_outliers(updated_x, updated_y, side_size_x, side_size_y):\n",
        "    # Check if the right edge of the bounding box exceeds the right boundary (1.0)\n",
        "    if updated_x + side_size_x / 2 > 1:\n",
        "        # Adjust the x coordinate to bring the bounding box within the boundary\n",
        "        updated_x = updated_x - (updated_x + side_size_x / 2 - 1) / 2\n",
        "        # Adjust the width of the bounding box to fit within the boundary\n",
        "        side_size_x = 2 * (1 - updated_x)\n",
        "    # Check if the left edge of the bounding box exceeds the left boundary (0.0)\n",
        "    elif updated_x - side_size_x / 2 < 0:\n",
        "        # Adjust the x coordinate to bring the bounding box within the boundary\n",
        "        updated_x = updated_x + (side_size_x / 2 - updated_x) / 2\n",
        "        # Adjust the width of the bounding box to fit within the boundary\n",
        "        side_size_x = 2 * updated_x\n",
        "\n",
        "    # Check if the top edge of the bounding box exceeds the top boundary (1.0)\n",
        "    if updated_y + side_size_y / 2 > 1:\n",
        "        # Adjust the y coordinate to bring the bounding box within the boundary\n",
        "        updated_y = updated_y - (updated_y + side_size_y / 2 - 1) / 2\n",
        "        # Adjust the height of the bounding box to fit within the boundary\n",
        "        side_size_y = 2 * (1 - updated_y)\n",
        "    # Check if the bottom edge of the bounding box exceeds the bottom boundary (0.0)\n",
        "    elif updated_y - side_size_y / 2 < 0:\n",
        "        # Adjust the y coordinate to bring the bounding box within the boundary\n",
        "        updated_y = updated_y + (side_size_y / 2 - updated_y) / 2\n",
        "        # Adjust the height of the bounding box to fit within the boundary\n",
        "        side_size_y = 2 * updated_y\n",
        "\n",
        "    # Check for the corners where both X and Y boundaries are exceeded\n",
        "    # Bottom-left corner\n",
        "    if (updated_x - side_size_x / 2 < 0) and (updated_y - side_size_y / 2 < 0):\n",
        "        # Adjust both x and y coordinates to bring the bounding box within the boundary\n",
        "        updated_x = side_size_x / 2\n",
        "        updated_y = side_size_y / 2\n",
        "\n",
        "    # Bottom-right corner\n",
        "    if (updated_x + side_size_x / 2 > 1) and (updated_y - side_size_y / 2 < 0):\n",
        "        # Adjust both x and y coordinates to bring the bounding box within the boundary\n",
        "        updated_x = 1 - side_size_x / 2\n",
        "        updated_y = side_size_y / 2\n",
        "\n",
        "    # Top-left corner\n",
        "    if (updated_x - side_size_x / 2 < 0) and (updated_y + side_size_y / 2 > 1):\n",
        "        # Adjust both x and y coordinates to bring the bounding box within the boundary\n",
        "        updated_x = side_size_x / 2\n",
        "        updated_y = 1 - side_size_y / 2\n",
        "\n",
        "    # Top-right corner\n",
        "    if (updated_x + side_size_x / 2 > 1) and (updated_y + side_size_y / 2 > 1):\n",
        "        # Adjust both x and y coordinates to bring the bounding box within the boundary\n",
        "        updated_x = 1 - side_size_x / 2\n",
        "        updated_y = 1 - side_size_y / 2\n",
        "\n",
        "    # Return the potentially adjusted coordinates and sizes\n",
        "    return updated_x, updated_y, side_size_x, side_size_y"
      ],
      "metadata": {
        "id": "Rt9gB76CQ5xH"
      },
      "execution_count": 188,
      "outputs": []
    },
    {
      "cell_type": "code",
      "source": [
        "#One with 4 checks\n",
        "\"\"\"def check_update_outliers(updated_x, updated_y, side_size_x, side_size_y):\n",
        "    # Check if the square exceeds the right boundary\n",
        "    if updated_x + side_size_x / 2 > 1:\n",
        "        updated_x = updated_x - (updated_x + side_size_x / 2 - 1) / 2\n",
        "        side_size_x = 2 * (1 - updated_x)\n",
        "    # Check if the square exceeds the left boundary\n",
        "    elif updated_x - side_size_x / 2 < 0:\n",
        "        updated_x = updated_x + (side_size_x / 2 - updated_x) / 2\n",
        "        side_size_x = 2 * updated_x\n",
        "\n",
        "    # Check if the square exceeds the top boundary\n",
        "    if updated_y + side_size_y / 2 > 1:\n",
        "        updated_y = updated_y - (updated_y + side_size_y / 2 - 1) / 2\n",
        "        side_size_y = 2 * (1 - updated_y)\n",
        "    # Check if the square exceeds the bottom boundary\n",
        "    elif updated_y - side_size_y / 2 < 0:\n",
        "        updated_y = updated_y + (side_size_y / 2 - updated_y) / 2\n",
        "        side_size_y = 2 * updated_y\n",
        "\n",
        "    return updated_x, updated_y, side_size_x, side_size_y\"\"\""
      ],
      "metadata": {
        "colab": {
          "base_uri": "https://localhost:8080/",
          "height": 226
        },
        "id": "GN-zykIN_mXz",
        "outputId": "08ddcf83-ebb4-47ef-85c9-c0ca125711d8"
      },
      "execution_count": 189,
      "outputs": [
        {
          "output_type": "execute_result",
          "data": {
            "text/plain": [
              "'def check_update_outliers(updated_x, updated_y, side_size_x, side_size_y):\\n    # Check if the square exceeds the right boundary\\n    if updated_x + side_size_x / 2 > 1:\\n        updated_x = updated_x - (updated_x + side_size_x / 2 - 1) / 2\\n        side_size_x = 2 * (1 - updated_x)\\n    # Check if the square exceeds the left boundary\\n    elif updated_x - side_size_x / 2 < 0:\\n        updated_x = updated_x + (side_size_x / 2 - updated_x) / 2\\n        side_size_x = 2 * updated_x\\n    \\n    # Check if the square exceeds the top boundary\\n    if updated_y + side_size_y / 2 > 1:\\n        updated_y = updated_y - (updated_y + side_size_y / 2 - 1) / 2\\n        side_size_y = 2 * (1 - updated_y)\\n    # Check if the square exceeds the bottom boundary\\n    elif updated_y - side_size_y / 2 < 0:\\n        updated_y = updated_y + (side_size_y / 2 - updated_y) / 2\\n        side_size_y = 2 * updated_y\\n\\n    return updated_x, updated_y, side_size_x, side_size_y'"
            ],
            "application/vnd.google.colaboratory.intrinsic+json": {
              "type": "string"
            }
          },
          "metadata": {},
          "execution_count": 189
        }
      ]
    },
    {
      "cell_type": "code",
      "source": [
        "def update_normalize_xy(param, side_size, dimension=\"X\", H=440., B=440.):\n",
        "    \"\"\"\n",
        "    Normalizes the param value for the specified dimension (X or Y).\n",
        "\n",
        "    Args:\n",
        "    param (float): The parameter value to normalize.\n",
        "    side_size (float): The size to be added for centering.\n",
        "    dimension (str): The dimension to normalize ('X' or 'Y').\n",
        "    H (float): The maximum range for X dimension (default is 3840.0).\n",
        "    B (float): The maximum range for Y dimension (default is 2160.0).\n",
        "\n",
        "    Returns:\n",
        "    float: The normalized parameter value in the range [0, 1].\n",
        "\n",
        "    Raises:\n",
        "    ValueError: If the dimension is not 'X' or 'Y'.\n",
        "    \"\"\"\n",
        "    if dimension == \"X\":\n",
        "        # Normalize the param value for the X dimension\n",
        "        return (param + side_size / 2) / H\n",
        "    elif dimension == \"Y\":\n",
        "        # Normalize the param value for the Y dimension\n",
        "        return (param + side_size / 2) / B\n",
        "    else:\n",
        "        raise ValueError(\"Dimension must be 'X' or 'Y'\")"
      ],
      "metadata": {
        "id": "nWzfBf01wRrC"
      },
      "execution_count": 190,
      "outputs": []
    },
    {
      "cell_type": "code",
      "source": [
        "get_label_names(dataset_dir, format=\".txt\")\n",
        "for i in get_label_names(dataset_dir, format=\".txt\"):\n",
        "  path = dataset_dir + \"/\" + i\n",
        "  path = \"dataset\" + \"/\" + i\n",
        "  updated_path = \"updatedDataset\" + \"/\" + i\n",
        "  change_label_content(path, updated_path)"
      ],
      "metadata": {
        "id": "G-9XpGNgzEmi"
      },
      "execution_count": 191,
      "outputs": []
    },
    {
      "cell_type": "code",
      "source": [],
      "metadata": {
        "id": "okGi8RgEdJO6"
      },
      "execution_count": 191,
      "outputs": []
    }
  ]
}