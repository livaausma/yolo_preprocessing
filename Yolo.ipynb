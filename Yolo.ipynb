{
  "cells": [
    {
      "cell_type": "code",
      "execution_count": 163,
      "metadata": {
        "id": "9vYBTFVrOGIA"
      },
      "outputs": [],
      "source": [
        "import os\n",
        "import re\n",
        "import yaml\n",
        "from random import randrange\n",
        "import shutil"
      ]
    },
    {
      "cell_type": "code",
      "execution_count": null,
      "metadata": {
        "id": "PkCrT_5NL1fL"
      },
      "outputs": [],
      "source": [
        "images_train_dir = os.path.join(\"\", 'images', 'train')\n",
        "images_val_dir = os.path.join(\"\", 'images', 'val')\n",
        "labels_train_dir = os.path.join(\"\", 'labels', 'train')\n",
        "labels_val_dir = os.path.join(\"\", 'labels', 'val')\n",
        "\n",
        "os.makedirs(images_train_dir, exist_ok=True)\n",
        "os.makedirs(images_val_dir, exist_ok=True)\n",
        "os.makedirs(labels_train_dir, exist_ok=True)\n",
        "os.makedirs(labels_val_dir, exist_ok=True)\n",
        "\n",
        "dataset_dir = os.path.join(\"\", \"dataset\")\n",
        "os.makedirs(dataset_dir, exist_ok=True)"
      ]
    },
    {
      "cell_type": "code",
      "execution_count": 165,
      "metadata": {
        "id": "jueJ5pPQOMOJ"
      },
      "outputs": [],
      "source": [
        "def create_yolo_training_config(path, product_specific=False, product_type_id=None, names=None):\n",
        "    # Ensure the path exists\n",
        "    if not os.path.exists(path):\n",
        "        os.makedirs(path)\n",
        "\n",
        "    # Create the folder structure\n",
        "    images_train_dir = os.path.join('images', 'train')\n",
        "    images_val_dir = os.path.join('images', 'val')\n",
        "    labels_train_dir = os.path.join('labels', 'train')\n",
        "    labels_val_dir = os.path.join('labels', 'val')\n",
        "\n",
        "    os.makedirs(images_train_dir, exist_ok=True)\n",
        "    os.makedirs(images_val_dir, exist_ok=True)\n",
        "    os.makedirs(labels_train_dir, exist_ok=True)\n",
        "    os.makedirs(labels_val_dir, exist_ok=True)\n",
        "\n",
        "    dataset_dir = os.path.join(\"\", \"dataset\") # call the dataset \"dataset\"\n",
        "    os.makedirs(dataset_dir, exist_ok=True) # makes dataset directory\n",
        "\n",
        "    # calls split_data() function and splits data into 80% training data and 20% validation data\n",
        "    split_data(product_specific, product_type_id, names)\n",
        "\n",
        "\n",
        "    # Create the YAML content\n",
        "    yaml_content = {\n",
        "        'train': os.path.join(path, 'images', 'train'),\n",
        "        'val': os.path.join(path, 'images', 'val'),\n",
        "        'labels': {\n",
        "            'train': labels_train_dir,\n",
        "            'val': labels_val_dir\n",
        "        },\n",
        "        'nc': len(names) if names else 0,\n",
        "        'names': names if names else []\n",
        "    }\n",
        "    if product_specific and product_type_id is not None:\n",
        "        yaml_content['product_type_id'] = product_type_id\n",
        "\n",
        "    # Write the YAML file\n",
        "    yaml_path = os.path.join(path, 'data.yaml')\n",
        "\n",
        "    with open(yaml_path, 'w') as yaml_file:\n",
        "        yaml.dump(yaml_content, yaml_file, default_flow_style=False)\n",
        "    print(f'YOLO training configuration created at {yaml_path}')\n",
        "    print(f'Folder structure created under {path}')"
      ]
    },
    {
      "cell_type": "code",
      "execution_count": 166,
      "metadata": {
        "id": "MCcS5uRF8ufj"
      },
      "outputs": [],
      "source": [
        "def count_jpg_images(folder_path, format = \".jpg\"):\n",
        "    jpg_count = 0\n",
        "    txt_count = 0\n",
        "    if format == \".jpg\":\n",
        "      for file_name in os.listdir(folder_path):\n",
        "        if file_name.endswith('.jpg'):\n",
        "            jpg_count += 1\n",
        "      return jpg_count\n",
        "    elif format == \".txt\":\n",
        "      for file_name in os.listdir(folder_path):\n",
        "        if file_name.endswith('.txt'):\n",
        "            txt_count += 1\n",
        "      return txt_count"
      ]
    },
    {
      "cell_type": "code",
      "execution_count": 167,
      "metadata": {
        "id": "uwnxYx8T_nWM"
      },
      "outputs": [],
      "source": [
        "def get_jpg_image_names(folder_path, format = \".jpg\"):\n",
        "    if format == \".jpg\":\n",
        "      jpg_images = [file_name for file_name in os.listdir(folder_path) if file_name.endswith('.jpg')]\n",
        "      return jpg_images\n",
        "    else:\n",
        "      txt_images = [file_name for file_name in os.listdir(folder_path) if file_name.endswith('.txt')]\n",
        "      return txt_images"
      ]
    },
    {
      "cell_type": "code",
      "execution_count": 168,
      "metadata": {
        "id": "pT7PLC5uBOhG"
      },
      "outputs": [],
      "source": [
        "def copy_image(src_folder, dest_folder, image_name):\n",
        "    # Ensure the destination folder exists\n",
        "    os.makedirs(dest_folder, exist_ok=True)\n",
        "\n",
        "    # Define the full file paths\n",
        "    src_path = os.path.join(src_folder, image_name)\n",
        "    dest_path = os.path.join(dest_folder, image_name)\n",
        "\n",
        "    # Copy the image\n",
        "    shutil.copy(src_path, dest_path)\n",
        "    #print(f'Copied {image_name} to {dest_folder}')"
      ]
    },
    {
      "cell_type": "code",
      "execution_count": 169,
      "metadata": {
        "id": "SUThYZr7K9Dl"
      },
      "outputs": [],
      "source": [
        "def copy_file_group(src_folder, dest_folder, label_name, product_type_id):\n",
        "    # Ensure the destination folder exists\n",
        "    os.makedirs(dest_folder, exist_ok=True)\n",
        "\n",
        "    # Define the full file paths\n",
        "    src_path = os.path.join(src_folder, label_name)\n",
        "    dest_path = os.path.join(dest_folder, label_name)\n",
        "\n",
        "    # Initialize a list to hold matching lines\n",
        "    matching_lines = []\n",
        "\n",
        "    # Read the source file and find lines with the specific product type ID\n",
        "    with open(src_path, 'r') as fileref:\n",
        "        for line in fileref:\n",
        "            parts = line.split()\n",
        "            if len(parts) > 1 and parts[1].isdigit() and int(parts[1]) == product_type_id:\n",
        "                # Convert parts[2] to an integer, subtract 1, and convert back to string\n",
        "                modified_part2 = str(int(parts[2]) - 1)\n",
        "                # Construct the new line with the modified part\n",
        "                new_line = modified_part2 + \" \" + \" \".join(parts[3:]) + \"\\n\" # Keep the rest of the line, the coordinates\n",
        "                matching_lines.append(new_line)\n",
        "\n",
        "    # Write the matching lines to the destination file\n",
        "    with open(dest_path, 'w') as file:\n",
        "        file.writelines(matching_lines)\n"
      ]
    },
    {
      "cell_type": "code",
      "execution_count": null,
      "metadata": {},
      "outputs": [],
      "source": [
        "def copy_file_names(src_folder, dest_folder, label_name, names):\n",
        "    # Ensure the destination folder exists\n",
        "    os.makedirs(dest_folder, exist_ok=True)\n",
        "\n",
        "    # Define the full file paths\n",
        "    src_path = os.path.join(src_folder, label_name)\n",
        "    dest_path = os.path.join(dest_folder, label_name)\n",
        "\n",
        "    # Initialize a list to hold matching lines\n",
        "    matching_lines = []\n",
        "\n",
        "    # Prepare the names list by removing anything but letters and creating a set\n",
        "    names_list = set(re.sub(r'[^A-Za-z]', '', name) for name in names)\n",
        "    names_with_indices = {name: str(index) for index, name in enumerate(names_list)}\n",
        "\n",
        "    # Read the source file and find lines with the specific names\n",
        "    with open(src_path, 'r') as fileref:\n",
        "        for line in fileref:\n",
        "            parts = line.split()\n",
        "            if len(parts) > 0:\n",
        "                name_part = parts[0]\n",
        "                # Check if name_part contains any name in names_list\n",
        "                for name in names_list:\n",
        "                    if name in name_part:\n",
        "                        name_label = names_with_indices[name] # gets label \n",
        "                        matching_lines.append(name_label + \" \" + \" \".join(parts[1:]) + \"\\n\")  # Keep the rest of the line after the name\n",
        "                        break\n",
        "\n",
        "    # Write the matching lines to the destination file\n",
        "    with open(dest_path, 'w') as file:\n",
        "        file.writelines(matching_lines)"
      ]
    },
    {
      "cell_type": "code",
      "execution_count": 170,
      "metadata": {
        "id": "c4t8iAcBVZQ5"
      },
      "outputs": [],
      "source": [
        "def split_data(product_specific=False, product_type_id=None, names=None):\n",
        "  dataset_dir = 'dataset'\n",
        "\n",
        "  image_train_dir = 'images/train'\n",
        "  image_val_dir = 'images/val'\n",
        "\n",
        "  labels_train_dir = 'labels/train'\n",
        "  labels_val_dir = 'labels/val'\n",
        "\n",
        "  number_of_images = count_jpg_images(dataset_dir)\n",
        "\n",
        "  image_names = get_jpg_image_names(dataset_dir)\n",
        "  image_names_index = {}\n",
        "\n",
        "  label_names = get_jpg_image_names(dataset_dir, \".txt\")\n",
        "  label_names_index = {}\n",
        "\n",
        "  labels_names_train = []\n",
        "  labels_names_val = []\n",
        "\n",
        "  #add image and label names into the dictionary\n",
        "  for i in range(len(image_names)):\n",
        "    image_names_index[image_names[i]] = randrange(10)\n",
        "    label_names_index[label_names[i]] = image_names_index[image_names[i]]\n",
        "\n",
        "  for i in range(number_of_images):\n",
        "    if(list(image_names_index.values())[i] == 9 or list(image_names_index.values())[i] == 0):\n",
        "      copy_image(dataset_dir, image_val_dir, list(image_names_index.keys())[i])\n",
        "      if product_specific and product_type_id is not None: # if group and ID is given\n",
        "        copy_file_group(dataset_dir, labels_val_dir, list(label_names_index.keys())[i], product_type_id)\n",
        "      if names is not None:  # if names is given\n",
        "        copy_file_names(dataset_dir, labels_val_dir, list(label_names_index.keys())[i], names)\n",
        "      labels_names_val.append(list(label_names_index.keys())[i])\n",
        "\n",
        "    else:\n",
        "      copy_image(dataset_dir, image_train_dir, list(image_names_index.keys())[i])\n",
        "      if product_specific and product_type_id is not None: # if group and ID is given\n",
        "        copy_file_group(dataset_dir, labels_train_dir, list(label_names_index.keys())[i], product_type_id)\n",
        "      if names is not None: # if names is given\n",
        "        copy_file_names(dataset_dir, labels_train_dir, list(label_names_index.keys())[i], names)\n",
        "      labels_names_train.append(list(label_names_index.keys())[i])"
      ]
    },
    {
      "cell_type": "code",
      "execution_count": 171,
      "metadata": {
        "colab": {
          "base_uri": "https://localhost:8080/",
          "height": 70
        },
        "id": "wPSqTFKRYB3f",
        "outputId": "904c8a2e-15fa-42ab-aa9d-9898e06b6841"
      },
      "outputs": [
        {
          "data": {
            "application/vnd.google.colaboratory.intrinsic+json": {
              "type": "string"
            },
            "text/plain": [
              "'label_names = get_jpg_image_names(dataset_dir, \".txt\")\\n\\nwith open(dataset_dir + \"/\" + label_names[0], \"r\") as fileref:\\n  for i in fileref:\\n    print(i.split()[2:])\\n\\nst = \" \".join(i.split()[2:])'"
            ]
          },
          "execution_count": 171,
          "metadata": {},
          "output_type": "execute_result"
        }
      ],
      "source": [
        "\"\"\"label_names = get_jpg_image_names(dataset_dir, \".txt\")\n",
        "\n",
        "with open(dataset_dir + \"/\" + label_names[0], \"r\") as fileref:\n",
        "  for i in fileref:\n",
        "    print(i.split()[2:])\n",
        "\n",
        "st = \" \".join(i.split()[2:])\"\"\""
      ]
    },
    {
      "cell_type": "code",
      "execution_count": 172,
      "metadata": {
        "id": "RHPGMT-PzaMj"
      },
      "outputs": [],
      "source": [
        "# not needed as label files do not need to be updated\n",
        "# \n",
        "# def update_label(label_names, path, product_type_id=0):\n",
        "#   st = \"\"\n",
        "#   for index in range(len(label_names)):\n",
        "#     with open(path + \"/\" + label_names[index], \"r\") as fileref:\n",
        "#       for i in fileref:\n",
        "#         if product_type_id == int(i.split()[1]):\n",
        "#           st = \" \".join(i.split()[2:])\n",
        "\n",
        "\n",
        "#     with open(path + \"/\" + label_names[index], 'w') as file:\n",
        "#       file.write(st)"
      ]
    },
    {
      "cell_type": "code",
      "execution_count": 173,
      "metadata": {
        "colab": {
          "base_uri": "https://localhost:8080/"
        },
        "id": "jg-ui7GpTStZ",
        "outputId": "bf0b86b8-084d-477d-dab1-df0c6670d68c"
      },
      "outputs": [
        {
          "name": "stdout",
          "output_type": "stream",
          "text": [
            "2\n"
          ]
        }
      ],
      "source": [
        "#update_label(labels_names_val, labels_val_dir)\n",
        "products = {\"Toilet\":0, \"Bathtub\":1, \"Sink\":2}\n",
        "print(products[\"Sink\"])"
      ]
    },
    {
      "cell_type": "code",
      "execution_count": 174,
      "metadata": {
        "colab": {
          "base_uri": "https://localhost:8080/"
        },
        "id": "nBLrEzJO2wOs",
        "outputId": "052fcc05-da2f-4c0f-b23c-f2f1fd535e59"
      },
      "outputs": [
        {
          "name": "stdout",
          "output_type": "stream",
          "text": [
            "YOLO training configuration created at path/to/directory/data.yaml\n",
            "Folder structure created under path/to/directory\n"
          ]
        }
      ],
      "source": [
        "products = {\"Toilet\":0, \"Bathtub\":1, \"Sink\":2, \"Vanity\":3, \"Faucet\":4}\n",
        "\n",
        "# Example usage\n",
        "create_yolo_training_config(\"path/to/directory\", product_specific=True, product_type_id=products[\"Sink\"], names=[\"Toilet1\", \"Toilet2\", \"Toilet3\", \"Toilet4\"])\n",
        "\n"
      ]
    },
    {
      "cell_type": "code",
      "execution_count": 174,
      "metadata": {
        "id": "DQ8t55d1HuPp"
      },
      "outputs": [],
      "source": []
    }
  ],
  "metadata": {
    "accelerator": "GPU",
    "colab": {
      "gpuType": "T4",
      "provenance": []
    },
    "kernelspec": {
      "display_name": "Python 3",
      "name": "python3"
    },
    "language_info": {
      "name": "python"
    }
  },
  "nbformat": 4,
  "nbformat_minor": 0
}
